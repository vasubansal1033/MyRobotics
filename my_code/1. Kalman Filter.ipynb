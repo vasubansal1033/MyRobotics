{
 "cells": [
  {
   "cell_type": "code",
   "execution_count": 1,
   "metadata": {},
   "outputs": [],
   "source": [
    "\n",
    "import numpy as np\n",
    "import math\n"
   ]
  },
  {
   "cell_type": "markdown",
   "metadata": {},
   "source": [
    "<img src='algo.jpg'>"
   ]
  },
  {
   "cell_type": "code",
   "execution_count": 2,
   "metadata": {},
   "outputs": [],
   "source": [
    "\"\"\"\n",
    "Some properties :\n",
    "A - system matrix\n",
    "B - input matrix\n",
    "H - measurement model\n",
    "S - innovation covariance\n",
    "v - innovation\n",
    "x - state vector\n",
    "z_hat - predicted measurement\n",
    "Sigma - state covariance\n",
    "x_pred - predicted state\n",
    "Sigma_pred - predicted state covariance\n",
    "Q - input noise covariance\n",
    "R - measurement noise covariance\n",
    "K - Kalman filter gain\n",
    "\"\"\"\n",
    "\n",
    "# Created system class, which has system parameters\n",
    "class system:\n",
    "    def __init__(self,A,B,H,Q,R,):\n",
    "        self.A = A\n",
    "        self.B = B\n",
    "        self.H = H\n",
    "        self.Q = Q\n",
    "        self.R = R\n",
    "        \n",
    "# Created initial class, which has location with the uncertainity        \n",
    "class initial:\n",
    "    def __init__(self,x,Sigma):\n",
    "        self.x = x\n",
    "        self.Sigma = Sigma\n",
    "\n",
    "# Groundtruth, that is the actual data of path measured using sensors.        \n",
    "class groundTruth():\n",
    "    def __init__(self,x,y):\n",
    "        self.x = x\n",
    "        self.y = y\n",
    "    \n",
    "# Kalman filter class which has methods, prediction and correction        \n",
    "class kalman_filter:\n",
    "    \n",
    "    def __init__(self,system,init):\n",
    "        self.A = system.A\n",
    "        self.B = system.B\n",
    "        self.H = system.H\n",
    "        self.Q = system.Q\n",
    "        self.R = system.R\n",
    "        \n",
    "        self.x = init.x\n",
    "        self.Sigma = init.Sigma\n",
    "              \n",
    "    def prediction(self): # Prediction method performs the prediction steps\n",
    "        \n",
    "        # Predicted state\n",
    "        self.x_pred = (self.A)@(self.x)  # + self.B@self.u\n",
    "        # Predicted covariance\n",
    "        self.Sigma_pred = (self.A)@(self.Sigma)@((self.A).transpose())+self.Q\n",
    "        # This is an extra step\n",
    "        self.z_hat = (self.H)@(self.x_pred)\n",
    "    \n",
    "    def correction(self,z): # Correction method performs the correction steps\n",
    "                            # z is the ith measurement\n",
    "        self.z = z\n",
    "        # Innovation and measurement residual\n",
    "        self.v = z - self.z_hat\n",
    "        # Innovation on covariance\n",
    "        self.S = (self.H)@(self.Sigma_pred)@((self.H).transpose())+self.R\n",
    "        # Optimal Kalman gain\n",
    "        self.K = (self.Sigma_pred)@((self.H).transpose())@(np.linalg.inv(self.S))\n",
    "        # Updated state estimate\n",
    "        self.x = self.x_pred + self.K@self.v\n",
    "        \n",
    "        # Updated covariance estimate\n",
    "        I = np.identity(self.x.shape[0])\n",
    "        # This is in Joseph form. Both lines are corrects\n",
    "        #self.Sigma = (I - self.K@self.H)@self.Sigma_pred@((I-self.K@self.H).transpose())+self.K@self.R@self.K.transpose()\n",
    "        self.Sigma = (I - self.K@self.H)@self.Sigma_pred\n",
    "    \n",
    "\n",
    "        \n",
    "\n",
    "\n"
   ]
  },
  {
   "cell_type": "code",
   "execution_count": 3,
   "metadata": {},
   "outputs": [],
   "source": [
    "# Define the system model and motion model here\n",
    "A = np.identity(2)\n",
    "B = np.array([])\n",
    "H = np.identity(2)\n",
    "Q = np.identity(2)*10**-3\n",
    "R = np.identity(2)*5/100\n",
    "x = np.zeros((2,1))\n",
    "Sigma = np.identity(2)*2\n",
    "\n",
    "R = np.diag([0.05,0.05])**2\n",
    "L = np.linalg.cholesky(R)\n",
    "\n",
    "# Generating state data\n",
    "xdata = np.linspace(-5,5,100)\n",
    "ydata = np.array([math.sin(i)+3 for i in xdata])\n",
    "\n",
    "gt = groundTruth(xdata,ydata)\n",
    "\n",
    "# Creating measurements\n",
    "z = np.zeros((2,100))\n",
    "for i in range(gt.x.shape[0]):\n",
    "    noise = L@np.random.rand(2,1)\n",
    "    z[0,i] = gt.x[i] + noise[0]\n",
    "    z[1,i] = gt.y[i] + noise[1]\n",
    "\n",
    "# We created measurement data from the ground truth by adding noise to it\n",
    "sys = system(A,B,H,Q,R)\n",
    "init = initial(x,Sigma)"
   ]
  },
  {
   "cell_type": "code",
   "execution_count": 4,
   "metadata": {},
   "outputs": [],
   "source": [
    "filter = kalman_filter(sys,init) # Created kalman filter object\n",
    "\n",
    "x = np.zeros((2,100)) # Create array which holds filtered data\n",
    "# Gave the initial data\n",
    "x[0,0] = init.x[0]\n",
    "x[1,0] = init.x[1]\n",
    "\n",
    "for i in range(100):\n",
    "    z_temp = np.zeros((2,1))\n",
    "    z_temp[0] = z[0,i]\n",
    "    z_temp[1] = z[1,i]\n",
    "    filter.prediction()\n",
    "    filter.correction(z_temp)\n",
    "    x[0,i] = filter.x[0]\n",
    "    x[1,i] = filter.x[1]\n",
    "    \n"
   ]
  },
  {
   "cell_type": "code",
   "execution_count": 5,
   "metadata": {},
   "outputs": [],
   "source": [
    "import matplotlib.pyplot as plt"
   ]
  },
  {
   "cell_type": "code",
   "execution_count": 6,
   "metadata": {},
   "outputs": [
    {
     "data": {
      "image/png": "[encoded data removed]",
      "text/plain": [
       "<Figure size 432x288 with 1 Axes>"
      ]
     },
     "metadata": {
      "needs_background": "light"
     },
     "output_type": "display_data"
    }
   ],
   "source": [
    "plt.plot(xdata,ydata)\n",
    "plt.plot(x[0,:],x[1,:],'.',color = 'r')\n",
    "plt.show()"
   ]
  },
  {
   "cell_type": "markdown",
   "metadata": {},
   "source": [
    "Comparison of groundtruth and Kalman Filter.<br>\n",
    "Points in red are from Kalman filter.<br>"
   ]
  },
  {
   "cell_type": "code",
   "execution_count": 7,
   "metadata": {},
   "outputs": [
    {
     "data": {
      "text/plain": [
       "[<matplotlib.lines.Line2D at 0x21fd85f7940>]"
      ]
     },
     "execution_count": 7,
     "metadata": {},
     "output_type": "execute_result"
    },
    {
     "data": {
      "image/png": "[encoded data removed]",
      "text/plain": [
       "<Figure size 432x288 with 1 Axes>"
      ]
     },
     "metadata": {
      "needs_background": "light"
     },
     "output_type": "display_data"
    }
   ],
   "source": [
    "plt.plot(z[0,:],z[1,:],'.')\n",
    "plt.plot(x[0,:],x[1,:],color='r')"
   ]
  },
  {
   "cell_type": "markdown",
   "metadata": {},
   "source": [
    "Comparison of actual data and Kalman Filter.<br>\n",
    "Points in blue are actual data.<br>\n",
    "Red curve is Kalman filter data.<br>"
   ]
  },
  {
   "cell_type": "markdown",
   "metadata": {},
   "source": [
    "Useful links\n",
    "https://dsp.stackexchange.com/questions/23776/kalman-filter-understanding-the-noise-covariance-matrix"
   ]
  }
 ],
 "metadata": {
  "kernelspec": {
   "display_name": "Python 3",
   "language": "python",
   "name": "python3"
  },
  "language_info": {
   "codemirror_mode": {
    "name": "ipython",
    "version": 3
   },
   "file_extension": ".py",
   "mimetype": "text/x-python",
   "name": "python",
   "nbconvert_exporter": "python",
   "pygments_lexer": "ipython3",
   "version": "3.7.1"
  }
 },
 "nbformat": 4,
 "nbformat_minor": 2
}
