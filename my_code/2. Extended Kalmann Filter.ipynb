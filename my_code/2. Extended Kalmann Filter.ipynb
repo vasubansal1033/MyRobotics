{
 "cells": [
  {
   "cell_type": "code",
   "execution_count": 1,
   "metadata": {},
   "outputs": [],
   "source": [
    "\"\"\"\n",
    "A - System matrix Jacobian\n",
    "B - Input matrix Jacobian\n",
    "H - Measurement model Jacobian\n",
    "S - Innovation covariance\n",
    "v - innovation\n",
    "f - process model\n",
    "h - measurement model\n",
    "x - state vector\n",
    "z_hat - predicted measurement\n",
    "Sigma - state covariance\n",
    "x_pred - predicted state\n",
    "Sigma_pred - predicted state covariance\n",
    "Q - input noise covariance\n",
    "R - measurement noise covariance\n",
    "K - Kalman filter gain\n",
    "\n",
    "\"\"\"\n",
    "def wrapToPi(x):\n",
    "        pi = np.pi\n",
    "        x = x - np.floor(x/(2*pi)) *2 *pi\n",
    "        return x[x >= pi] - 2*pi\n",
    "    \n",
    "class ekf:\n",
    "    def __init__(self,system,init):\n",
    "        self.A = system.A\n",
    "        self.B = system.B\n",
    "        self.f = system.f\n",
    "        self.H = system.H\n",
    "        self.Q = system.Q\n",
    "        self.R = system.R\n",
    "        self.h = self.h\n",
    "        \n",
    "        self.x = init.x\n",
    "        self.Sigma = init.Sigma\n",
    "        \n",
    "    def prediction():\n",
    "        self.x_pred = self.f(self.x)\n",
    "        self.Sigma_pred = self.A@self.Sigma@self.A.transpose()+self.Q\n",
    "        self.z_hat = self.h(self.x_pred)\n",
    "    \n",
    "    def correction(z):\n",
    "        H = self.H(self.x_pred)\n",
    "        \n",
    "        self.v = z - self.z_hat\n",
    "        self.v[2] = wrapToPi(self.v[2])\n",
    "        self.S = H@self.Sigma_pred@H.transpose()+self.R\n",
    "        \n",
    "        self.K = self.Sigma_pred@H.tranpose()@(np.linalg.inv(self.S))\n",
    "        \n",
    "        self.x = self.x_pred+self.K@self.v\n",
    "        I = np.eye(length(self.x))\n",
    "        self.Sigma = (I-self.K@H)@self.Sigma_pred@(I-self.K@H).transpose()+self.K@self.R@self.K.transpose()"
   ]
  },
  {
   "cell_type": "code",
   "execution_count": null,
   "metadata": {},
   "outputs": [],
   "source": [
    "class groundTruth:\n",
    "    self.x = self.x\n",
    "    self.y = self.y\n",
    "class system:\n",
    "    self.A = A\n",
    "    self.B = B\n",
    "    self.f = "
   ]
  }
 ],
 "metadata": {
  "kernelspec": {
   "display_name": "Python 3",
   "language": "python",
   "name": "python3"
  },
  "language_info": {
   "codemirror_mode": {
    "name": "ipython",
    "version": 3
   },
   "file_extension": ".py",
   "mimetype": "text/x-python",
   "name": "python",
   "nbconvert_exporter": "python",
   "pygments_lexer": "ipython3",
   "version": "3.7.1"
  }
 },
 "nbformat": 4,
 "nbformat_minor": 2
}
