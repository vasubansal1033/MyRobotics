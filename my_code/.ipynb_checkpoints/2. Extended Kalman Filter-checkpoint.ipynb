{
 "cells": [
  {
   "cell_type": "code",
   "execution_count": 1,
   "metadata": {},
   "outputs": [],
   "source": [
    "import numpy as np\n",
    "import math"
   ]
  },
  {
   "cell_type": "markdown",
   "metadata": {},
   "source": [
    "<img src = 'algo_ekf.jpg'>\n",
    "<img src = 'probstatement_ekf.jpg'>"
   ]
  },
  {
   "cell_type": "code",
   "execution_count": 2,
   "metadata": {},
   "outputs": [],
   "source": [
    "# This function converts/wraps any angle in radian between -pi and pi\n",
    "def wrapToPi(x):\n",
    "    return x-2*math.pi*math.floor(x/(2*math.pi)+0.5) \n",
    "   \n",
    "#angle_rad = angle_rad - 2*pi*floor( (angle_rad+pi)/(2*pi) );\n",
    "    \n",
    "# This is the real data.    \n",
    "class groundTruth:\n",
    "    def __init__(self,x,y):\n",
    "        self.x = x\n",
    "        self.y = y\n",
    "\n",
    "# System model        \n",
    "class system:\n",
    "    def __init__(self,A,B,f,H,h,Q,R):\n",
    "        self.A = A\n",
    "        self.B = B\n",
    "        self.f = f\n",
    "        self.H = H\n",
    "        self.h = h\n",
    "        self.Q = Q\n",
    "        self.R = R\n",
    "\n",
    "# Initial data        \n",
    "class initial:\n",
    "    def __init__(self,x,Sigma):\n",
    "        self.x = x\n",
    "        self.Sigma = Sigma\n",
    "\n",
    "class ekf:\n",
    "    def __init__(self,system,init):\n",
    "        self.A = system.A\n",
    "        self.B = system.B\n",
    "        self.f = system.f\n",
    "        self.H = system.H\n",
    "        self.Q = system.Q\n",
    "        self.R = system.R\n",
    "        self.h = system.h\n",
    "        \n",
    "        self.x = init.x\n",
    "        self.Sigma = init.Sigma\n",
    "    \n",
    "    def prediction(self): # Prediction step\n",
    "        self.x_pred = self.f(self.x)\n",
    "        self.Sigma_pred = (self.A)@(self.Sigma)@((self.A).transpose())+self.Q\n",
    "        self.z_hat = self.h(self.x_pred)\n",
    "    \n",
    "    def correction(self,z): # Correction step\n",
    "        H_ = self.H(self.x_pred)\n",
    "        self.v = z - self.z_hat\n",
    "        self.v[1] = wrapToPi(self.v[1])\n",
    "        \n",
    "        self.S = (H_)@(self.Sigma_pred)@(H_.transpose())+self.R\n",
    "        self.K = (self.Sigma_pred)@(H_.transpose())@(np.linalg.inv(self.S))\n",
    "        self.x = self.x_pred+(self.K)@(self.v)\n",
    "        \n",
    "        I = np.eye(len(self.x))\n",
    "        self.Sigma = (I-self.K@H_)@(self.Sigma_pred)@((I-self.K@H_).transpose())+self.K@self.R@self.K.transpose()\n",
    "        # Written in Joseph form as it's numerically stable\n",
    "        "
   ]
  },
  {
   "cell_type": "code",
   "execution_count": 3,
   "metadata": {},
   "outputs": [],
   "source": [
    "# Earlier wrote in the form of lambda functions but they\n",
    "# had some issue with the shape of out array.\n",
    "def f(x):\n",
    "    array = np.zeros((2,1))\n",
    "    array[0] = x[0]\n",
    "    array[1] = x[1]\n",
    "    return array\n",
    "\n",
    "def H(x):\n",
    "    array = np.zeros((2,2))\n",
    "    temp = math.sqrt(x[0]**2+x[1]**2)\n",
    "    array[0][0] = x[0]/temp\n",
    "    array[0][1] = x[1]/temp\n",
    "    array[1][0] = x[1]/temp**2\n",
    "    array[1][1] = -x[0]/temp**2\n",
    "    return array\n",
    "    \n",
    "def h(x):\n",
    "    array = np.zeros((2,1))\n",
    "    array[0] = math.sqrt(x[0]**2+x[1]**2)\n",
    "    array[1] = math.atan2(x[0],x[1])\n",
    "    return array\n",
    "\n",
    "# Given Initial parameters\n",
    "A = np.identity(2)\n",
    "B = np.array([])\n",
    "Q = np.identity(2)*10**-3\n",
    "R = np.diag([0.05**2,0.01**2])\n",
    "L = np.linalg.cholesky(R)\n",
    "\n",
    "# Generating true data\n",
    "xdata = np.linspace(-5,5,100)\n",
    "ydata = np.array([math.sin(i)+3 for i in xdata])\n",
    "gt = groundTruth(xdata,ydata)\n",
    "\n",
    "# Creating sensor data by adding random noise to the data.\n",
    "# Sensor data is stored in the form of range and bearing data\n",
    "\n",
    "z = np.zeros((2,100))\n",
    "for i in range(100):\n",
    "    noise = L@np.random.rand(2,1)\n",
    "    z[0,i] = math.sqrt((gt.x[i])**2+(gt.y[i])**2)+noise[0]\n",
    "    z[1,i] = math.atan2(gt.x[i],gt.y[i])+noise[1]\n",
    "\n",
    "# Visualization purpose. Converted sensor data into x and y coordinate data\n",
    "z_ = np.zeros((2,100))\n",
    "for j in range(100):\n",
    "    z_[0,j] = z[0,j]*math.sin(z[1,j])\n",
    "    z_[1,j] = z[0,j]*math.cos(z[1,j])\n",
    "\n",
    "# Given initial data is assumed to be taken from the sensors.    \n",
    "x = np.zeros((2,1))\n",
    "x[0] = z[0,0]*math.sin(z[1,0])\n",
    "x[1] = z[0,0]*math.cos(z[1,0])\n",
    "Sigma = np.identity(2)\n",
    "\n",
    "\n",
    "                         "
   ]
  },
  {
   "cell_type": "code",
   "execution_count": 4,
   "metadata": {},
   "outputs": [],
   "source": [
    "sys = system(A,B,f,H,h,Q,R)\n",
    "init = initial(x,Sigma)"
   ]
  },
  {
   "cell_type": "code",
   "execution_count": 5,
   "metadata": {},
   "outputs": [],
   "source": [
    "filter = ekf(sys,init)\n",
    "\n",
    "# These array stores\n",
    "xfil = np.zeros((2,100))\n",
    "xfil[0,0] = z[0,0]*math.sin(z[1,0])\n",
    "xfil[1,0] = z[0,0]*math.cos(z[1,0])\n",
    "\n",
    "\n",
    "for i in range(100):\n",
    "    z_temp = np.zeros((2,1))\n",
    "    z_temp[0] = z[0,i]\n",
    "    z_temp[1] = z[1,i]\n",
    "    filter.prediction()\n",
    "    filter.correction(z_temp)\n",
    "    xfil[0,i] = filter.x[0]\n",
    "    xfil[1,i] = filter.x[1]"
   ]
  },
  {
   "cell_type": "code",
   "execution_count": 10,
   "metadata": {},
   "outputs": [
    {
     "data": {
      "image/png": "[encoded data removed]",
      "text/plain": [
       "<Figure size 432x288 with 1 Axes>"
      ]
     },
     "metadata": {
      "needs_background": "light"
     },
     "output_type": "display_data"
    }
   ],
   "source": [
    "import matplotlib.pyplot as plt\n",
    "plt.plot(gt.x,gt.y,color='blue')\n",
    "plt.plot(xfil[0,:],xfil[1,:],'.',color='r')\n",
    "\n",
    "plt.plot()\n",
    "plt.show()"
   ]
  },
  {
   "cell_type": "markdown",
   "metadata": {},
   "source": [
    "Comparison of ground truth and Kalman filtered data"
   ]
  },
  {
   "cell_type": "code",
   "execution_count": 11,
   "metadata": {},
   "outputs": [
    {
     "data": {
      "text/plain": [
       "[<matplotlib.lines.Line2D at 0x2da35b1d080>]"
      ]
     },
     "execution_count": 11,
     "metadata": {},
     "output_type": "execute_result"
    },
    {
     "data": {
      "image/png": "[encoded data removed]",
      "text/plain": [
       "<Figure size 432x288 with 1 Axes>"
      ]
     },
     "metadata": {
      "needs_background": "light"
     },
     "output_type": "display_data"
    }
   ],
   "source": [
    "plt.plot(gt.x,gt.y,color='r')\n",
    "plt.plot(z_[0,:],z_[1,:],'.')"
   ]
  },
  {
   "cell_type": "markdown",
   "metadata": {},
   "source": [
    "Comparison of actual sensor data and Kalman filtered data"
   ]
  },
  {
   "cell_type": "markdown",
   "metadata": {},
   "source": [
    "Useful links :- <br>\n",
    "EKF from the slam course :  https://www.youtube.com/watch?v=mYAsKbwqGv0&list=PLX2gX-ftPVXU3oUFNATxGXY90AULiqnWT&index=18. Start from 33 minutes<br>\n",
    "\n",
    "Second lecture, EECS course by University of Michigan - http://robots.engin.umich.edu/mobilerobotics/media/Slides/02_kalman_filtering.pdf\n",
    "\n"
   ]
  }
 ],
 "metadata": {
  "kernelspec": {
   "display_name": "Python 3",
   "language": "python",
   "name": "python3"
  },
  "language_info": {
   "codemirror_mode": {
    "name": "ipython",
    "version": 3
   },
   "file_extension": ".py",
   "mimetype": "text/x-python",
   "name": "python",
   "nbconvert_exporter": "python",
   "pygments_lexer": "ipython3",
   "version": "3.7.1"
  }
 },
 "nbformat": 4,
 "nbformat_minor": 2
}
