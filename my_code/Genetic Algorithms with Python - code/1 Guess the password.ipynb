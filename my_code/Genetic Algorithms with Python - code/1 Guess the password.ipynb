{
 "cells": [
  {
   "cell_type": "code",
   "execution_count": 1,
   "metadata": {},
   "outputs": [],
   "source": [
    "import random"
   ]
  },
  {
   "cell_type": "code",
   "execution_count": 2,
   "metadata": {},
   "outputs": [],
   "source": [
    "geneSet = 'abcdefghijklmnopqrstuvwxyzABCDEFGHIJKLMNOPQRSTUVWXYZ!. '\n",
    "target = 'For I am fearfully and wonderfully made.'"
   ]
  },
  {
   "cell_type": "code",
   "execution_count": 3,
   "metadata": {},
   "outputs": [
    {
     "name": "stdout",
     "output_type": "stream",
     "text": [
      "[5, 2, 6]\n",
      "[' ', 's', 'a', 'a', 'l']\n",
      "['apple', 'banana']\n",
      "['f', 'c', 'e', 'd']\n",
      "5 2\n"
     ]
    }
   ],
   "source": [
    "list1 = [1,2,3,4,5,6]\n",
    "string1 = 'Vasu Bansal'\n",
    "tuple1 = ('apple','mango','banana','guava','strawberry')\n",
    "set1 = {'a','b','c','d','e','f'}\n",
    "\n",
    "# Geeting any three elements at random from datatype \n",
    "print(random.sample(list1,3))\n",
    "print(random.sample(string1,5))\n",
    "print(random.sample(tuple1,2))\n",
    "print(random.sample(set1,4))\n",
    "\n",
    "\n",
    "x,y = random.sample(list1,2)\n",
    "print(x,y)"
   ]
  },
  {
   "cell_type": "code",
   "execution_count": 4,
   "metadata": {},
   "outputs": [
    {
     "name": "stdout",
     "output_type": "stream",
     "text": [
      "1-2-3-4-5\n",
      "apple\n"
     ]
    }
   ],
   "source": [
    "list2 = ['1','2','3','4','5']\n",
    "list3 = ['a','p','p','l','e']\n",
    "\n",
    "# Joining elements of list with -\n",
    "print('-'.join(list2))\n",
    "# Getting string from list using empty string\n",
    "print(''.join(list3))"
   ]
  },
  {
   "cell_type": "markdown",
   "metadata": {},
   "source": [
    "Difference between append and extend https://www.geeksforgeeks.org/append-extend-python/"
   ]
  },
  {
   "cell_type": "code",
   "execution_count": 5,
   "metadata": {},
   "outputs": [],
   "source": [
    "# Generate random string from the gene set\n",
    "def generate_parent(length):\n",
    "    genes = [] # Initialize empty string as list\n",
    "    \n",
    "    # This loop calculates the initial parent string as a list\n",
    "    while len(genes)<length:\n",
    "        sampleSize = min(length - len(genes),len(geneSet)) \n",
    "        genes.extend(random.sample(geneSet,sampleSize))\n",
    "    \n",
    "    return ''.join(genes) # Converts the parent string list into string\n",
    "\n",
    "# Fitness value is the total number of letters in the guess that match the letter in the same position of the password\n",
    "\n",
    "def get_fitness(guess):\n",
    "    return sum(1 for expected, actual in zip(target,guess)\n",
    "               if expected == actual)\n",
    "\n",
    "def mutate(parent):\n",
    "    index = random.randrange(0,len(parent)) # get random index\n",
    "    childGenes = list(parent) # parent string gets converted to list, which can be seen as genes for child\n",
    "                              # 'apple' -> ['a','p','p','l','e']\n",
    "    \n",
    "    newGene, alternate = random.sample(geneSet,2) # 2 random genes are generated\n",
    "    \n",
    "    if newGene == childGenes[index]: # mutation step\n",
    "        childGenes[index] = alternate\n",
    "    else:\n",
    "        childGenes[index] = newGene\n",
    "    \n",
    "    return ''.join(childGenes) # childGenes list is converted to string\n"
   ]
  },
  {
   "cell_type": "markdown",
   "metadata": {},
   "source": [
    "The implementation uses an alternate replacement incase the randomly selected newGene is same as the one it is supposed to replace. This can prevent significant number of waster guesses"
   ]
  },
  {
   "cell_type": "code",
   "execution_count": 6,
   "metadata": {},
   "outputs": [],
   "source": [
    "import datetime\n",
    "\n",
    "def display(guess):\n",
    "    timeDiff = datetime.datetime.now() - startTime\n",
    "    fitness = get_fitness(guess)\n",
    "    print('{0}\\t{1}\\t{2}'.format(guess,fitness,str(timeDiff)))"
   ]
  },
  {
   "cell_type": "code",
   "execution_count": 7,
   "metadata": {},
   "outputs": [
    {
     "name": "stdout",
     "output_type": "stream",
     "text": [
      "kXONxEporeVfKRmgTPvqwFUMHunaALl.BDCizyJs\t0\t0:00:00\n",
      "-------\n",
      "kXONx poreVfKRmgTPvqwFUMHunaALl.BDCizyJs\t1\t0:00:00\n",
      "kXONx poreVfKRmglPvqwFUMHunaALl.BDCizyJs\t2\t0:00:00\n",
      "kXONx aoreVfKRmglPvqwFUMHunaALl.BDCizyJs\t3\t0:00:00\n",
      "kXONx aoreVfKRmglPvqwFUMHuneALl.BDCizyJs\t4\t0:00:00\n",
      "kXONx aoreVfKRmglPvqwFUMHuneALu.BDCizyJs\t5\t0:00:00\n",
      "kXONx aoreefKRmglPvqwFUMHuneALu.BDCizyJs\t6\t0:00:00\n",
      "kXO x aoreefKRmglPvqwFUMHuneALu.BDCizyJs\t7\t0:00:00.015651\n",
      "kXO x aoreefKRmllPvqwFUMHuneALu.BDCizyJs\t8\t0:00:00.015651\n",
      "kXO x aoreefKRmllPvqwFUMHuneAfu.BDCizyJs\t9\t0:00:00.015651\n",
      "kXO x aoreefKRmllPvqwFUMHuneAfu.BDCizyes\t10\t0:00:00.015651\n",
      "kXO x aoreefKRmllPvqwFUwHuneAfu.BDCizyes\t11\t0:00:00.015651\n",
      "kXO x aoreefKRmllPvqwFUwHuneAfu.BDCizdes\t12\t0:00:00.015651\n",
      "kXO x aoreefKRmllPvqwFUwHuneAfu.BDCiades\t13\t0:00:00.015651\n",
      "FXO x aoreefKRmllPvqwFUwHuneAfu.BDCiades\t14\t0:00:00.015651\n",
      "FXr x aoreefKRmllPvqwFUwHuneAfu.BDCiades\t15\t0:00:00.015651\n",
      "FXr I aoreefKRmllPvqwFUwHuneAfu.BDCiades\t16\t0:00:00.031284\n",
      "FXr I aorfefKRmllPvqwFUwHuneAfu.BDCiades\t17\t0:00:00.031284\n",
      "FXr I aorfefKRmllPvqwFUwHuneAfulBDCiades\t18\t0:00:00.031284\n",
      "FXr I aorfefKRmllPvqwdUwHuneAfulBDCiades\t19\t0:00:00.046865\n",
      "FXr I aorfefKRmllP qwdUwHuneAfulBDCiades\t20\t0:00:00.046865\n",
      "FXr I aorfefKRmllP awdUwHuneAfulBDCiades\t21\t0:00:00.046865\n",
      "FXr I aorfefKRmllP awdUwHudeAfulBDCiades\t22\t0:00:00.046865\n",
      "FXr I aorfefrRmllP awdUwHudeAfulBDCiades\t23\t0:00:00.046865\n",
      "For I aorfefrRmllP awdUwHudeAfulBDCiades\t24\t0:00:00.046865\n",
      "For I aorfefrRmlly awdUwHudeAfulBDCiades\t25\t0:00:00.062513\n",
      "For I aorfefrRmlly andUwHudeAfulBDCiades\t26\t0:00:00.062513\n",
      "For I aorfefrRmlly andUwHudeAfullDCiades\t27\t0:00:00.062513\n",
      "For I aorfefrRmlly andUwHndeAfullDCiades\t28\t0:00:00.062513\n",
      "For I aorfefrRmlly andUwHndeAfullDCmades\t29\t0:00:00.062513\n",
      "For I aorfefrRmlly andUwHndeAfullyCmades\t30\t0:00:00.062513\n",
      "For I aorfefrRmlly and wHndeAfullyCmades\t31\t0:00:00.062513\n",
      "For I aorfefrRmlly and wHndeAfullyCmade.\t32\t0:00:00.062513\n",
      "For I aorfefrRully and wHndeAfullyCmade.\t33\t0:00:00.078104\n",
      "For I aorfefrRully and wHndeAfully made.\t34\t0:00:00.078104\n",
      "For I ao fefrRully and wHndeAfully made.\t35\t0:00:00.078104\n",
      "For I ao fearRully and wHndeAfully made.\t36\t0:00:00.078104\n",
      "For I ao fearRully and wondeAfully made.\t37\t0:00:00.093725\n",
      "For I am fearRully and wondeAfully made.\t38\t0:00:00.093725\n",
      "For I am fearRully and wonderfully made.\t39\t0:00:00.109345\n",
      "For I am fearfully and wonderfully made.\t40\t0:00:00.109345\n"
     ]
    }
   ],
   "source": [
    "#random.seed()\n",
    "startTime = datetime.datetime.now()\n",
    "bestParent = generate_parent(len(target))\n",
    "bestFitness = get_fitness(bestParent)\n",
    "display(bestParent)\n",
    "print('-------')\n",
    "\n",
    "# Genetic algorithm\n",
    "\"\"\"\n",
    "\n",
    "Generates a guess\n",
    "Requests fitness for that guess\n",
    "Compare fitness to previous best guess\n",
    "Keeps the guess with better fitness\n",
    "\n",
    "\"\"\"\n",
    "\n",
    "while True:\n",
    "    child = mutate(bestParent)\n",
    "    childFitness = get_fitness(child)\n",
    "    \n",
    "    if bestFitness >= childFitness:\n",
    "        continue\n",
    "    display(child)\n",
    "    \n",
    "    if childFitness >= len(bestParent):\n",
    "        break\n",
    "        \n",
    "    bestFitness = childFitness\n",
    "    bestParent = child"
   ]
  },
  {
   "cell_type": "code",
   "execution_count": 9,
   "metadata": {},
   "outputs": [
    {
     "name": "stdout",
     "output_type": "stream",
     "text": [
      "<zip object at 0x0000014510E4E608>\n",
      "[('a', 'x'), ('b', 'y'), ('c', 'z'), ('d', 'p'), ('e', 'q'), ('f', 'r')]\n"
     ]
    }
   ],
   "source": [
    "string2 = 'abcdef'\n",
    "string3 = 'xyzpqr'\n",
    "\n",
    "print(zip(string2,string3))\n",
    "print(list(zip(string2,string3))) # typecasted zip object into list"
   ]
  }
 ],
 "metadata": {
  "kernelspec": {
   "display_name": "Python 3",
   "language": "python",
   "name": "python3"
  },
  "language_info": {
   "codemirror_mode": {
    "name": "ipython",
    "version": 3
   },
   "file_extension": ".py",
   "mimetype": "text/x-python",
   "name": "python",
   "nbconvert_exporter": "python",
   "pygments_lexer": "ipython3",
   "version": "3.7.1"
  }
 },
 "nbformat": 4,
 "nbformat_minor": 2
}
