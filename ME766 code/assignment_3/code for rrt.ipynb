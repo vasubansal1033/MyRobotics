{
 "cells": [
  {
   "cell_type": "markdown",
   "metadata": {},
   "source": [
    "# Assignment 3 Part B\n",
    "## Vasu Bansal, Roll No. 160776, Course - ME766\n",
    "Path planning with obstacles.<br>\n",
    "Algorithm used - RRT(Rapidly exploring Random Trees)<br>\n",
    "Assignment is written in <i>Python</i> and implemented on <i>Jupyter Notebook</i> <br>\n",
    "<b>Note</b> - Python is used because Object oriented programming was easier to do and also because there is a library called Pygame which was used. It offered various functionalities like drawing Obstacles, detecting collisions plotting lines easily and also the implementation was a lot faster than in MatLab"
   ]
  },
  {
   "cell_type": "markdown",
   "metadata": {},
   "source": [
    "Reference used - https://en.wikipedia.org/wiki/Rapidly-exploring_random_tree <br>\n",
    "Pseudo code used :-\n",
    "<img src = \"algorithm.png\">"
   ]
  },
  {
   "cell_type": "code",
   "execution_count": 1,
   "metadata": {},
   "outputs": [
    {
     "name": "stdout",
     "output_type": "stream",
     "text": [
      "pygame 1.9.6\n",
      "Hello from the pygame community. https://www.pygame.org/contribute.html\n"
     ]
    }
   ],
   "source": [
    "# Import necessary libraries\n",
    "import math, pygame, random, sys\n",
    "from math import * # So that we can simply use the function\n",
    "from pygame import *"
   ]
  },
  {
   "cell_type": "code",
   "execution_count": 2,
   "metadata": {},
   "outputs": [],
   "source": [
    "# Screen parameters\n",
    "WIDTH = 800\n",
    "HEIGHT = 600\n",
    "FPS = 100 # Frames per second\n",
    "\n",
    "# Standard colors which will be used\n",
    "WHITE = (255, 255, 255)\n",
    "BLACK = (0, 0, 0)\n",
    "RED = (255, 0, 0)\n",
    "GREEN = (0, 255, 0)\n",
    "BLUE = (0, 0, 255)\n",
    "\n",
    "# Parameters\n",
    "startingX, startingY = 20, 480\n",
    "goalX, goalY = 700, 100\n",
    "thresh = 10 # Maximum distance between new node and current node\n",
    "range = 10 # Distance upto which Goal can be detected automatically\n",
    "num_of_nodes = 10000"
   ]
  },
  {
   "cell_type": "code",
   "execution_count": 3,
   "metadata": {},
   "outputs": [],
   "source": [
    "# Initialization\n",
    "pygame.init()\n",
    "clock = pygame.time.Clock() # Start the clock\n",
    "screen = pygame.display.set_mode((WIDTH, HEIGHT)) # Create the screen\n",
    "\n",
    "# Defined node object\n",
    "class Node(object):\n",
    "    def __init__(self, point, parent):\n",
    "        self.point = point # Holds the node coordinates\n",
    "        self.parent = parent # Holds the parent coordinates\n",
    "        \n",
    "# Function to calculate distance between two points\n",
    "def dist(p1,p2): \n",
    "    return sqrt((p1[0]-p2[0])*(p1[0]-p2[0])+(p1[1]-p2[1])*(p1[1]-p2[1]))\n",
    "\n",
    "# Function to check if the points are in range of each other\n",
    "def inRange(p1, p2, radius):\n",
    "    distance = dist(p1,p2)\n",
    "    if (distance <= radius): return True\n",
    "    return False\n",
    "\n",
    "# Clips the point so that the distance between two points is less than threshold distance\n",
    "def clip_point(p1,p2):\n",
    "    if dist(p1,p2) < thresh: return p2\n",
    "    else:\n",
    "        theta = atan2(p2[1]-p1[1],p2[0]-p1[0])\n",
    "        # Using distance form of line, the coordinates of point on the line joining the two are obtained\n",
    "        return p1[0] + thresh*cos(theta), p1[1] + thresh*sin(theta)\n",
    "\n",
    "# Returns True if the given coordinates are colliding with an obstacle\n",
    "def isCollision(p):    \n",
    "    for obstacle in Obstacles:\n",
    "        if obstacle.collidepoint(p) == True: return True\n",
    "    return False\n",
    "\n",
    "# This function returns a random point such that it does not collide with the obstacles\n",
    "def get_random_point():\n",
    "    # This loop returns a random in the workspace. If the generated point collides with an obstacle, it will generate again\n",
    "    while True:\n",
    "        p = random.random()*WIDTH, random.random()*HEIGHT # Generating a random point in the workspace\n",
    "        if not(isCollision(p)): return p\n",
    "\n",
    "# This function draws the obstacles on the screen\n",
    "def draw_obstacles():  \n",
    "    global Obstacles\n",
    "    Obstacles = []\n",
    "    Obstacles.append(pygame.Rect((WIDTH / 2.0 + 200, HEIGHT / 2.0 - 180),(100,370)))\n",
    "    Obstacles.append(pygame.Rect((370,100),(150,160)))\n",
    "    Obstacles.append(pygame.Rect((400,300),(100,80)))\n",
    "    Obstacles.append(pygame.Rect((250,180),(80,120)))\n",
    "    Obstacles.append(pygame.Rect((100,100),(80,80)))\n",
    "    Obstacles.append(pygame.Rect((100,300),(80,80)))\n",
    "    \n",
    "    for obstacle in Obstacles:\n",
    "        pygame.draw.rect(screen, BLACK, obstacle)\n",
    "    \n",
    "\n",
    "# This function resets the screen\n",
    "def reset():\n",
    "    global count\n",
    "    screen.fill(WHITE)\n",
    "    draw_obstacles()\n",
    "    count = 0\n",
    "\n",
    "def rrt_algo():\n",
    "    global count\n",
    "    \n",
    "    initialPoint = Node(None, None)\n",
    "    goalPoint = Node(None, None)\n",
    "    currentState = 'initial'\n",
    "    # currentState is a string which tells about the current state.\n",
    "    # Can be initial, buildTree or goalFound\n",
    "    first_flag = True # Flag to do operations just for the first iteration\n",
    "    graph = [] # This will hold all the nodes that are plotted on the screen\n",
    "    reset()\n",
    "\n",
    "    running = True\n",
    "    while running:\n",
    "        #Initial point and Goal point specified\n",
    "        initialPoint = Node((startingX, startingY), None)\n",
    "        goalPoint = Node((goalX, goalY),None)\n",
    "        \n",
    "        graph.append(initialPoint) # Add initial point to our graph\n",
    "        pygame.draw.circle(screen, RED, initialPoint.point, range) # Plot points on the screen\n",
    "        pygame.draw.circle(screen, GREEN, goalPoint.point, range)\n",
    "\n",
    "        if(first_flag): # This will work only for the first iteration\n",
    "            currentState = 'buildTree'\n",
    "            first_flag = False\n",
    "\n",
    "        if currentState == 'goalFound':\n",
    "            currentNode = goalNode.parent\n",
    "            pygame.display.set_caption(\"Destination Found!!\") # Sets the title of the screen\n",
    "\n",
    "             # This loop retraces the path found by RRT\n",
    "            while currentNode.parent != None:\n",
    "                pygame.draw.line(screen,RED,currentNode.point,currentNode.parent.point)\n",
    "                currentNode = currentNode.parent\n",
    "            running = False # No more need to run the loop\n",
    "           \n",
    "                    \n",
    "\n",
    "        elif currentState == 'buildTree':\n",
    "            count+=1\n",
    "            pygame.display.set_caption('Performing RRT')\n",
    "\n",
    "            if count < num_of_nodes:\n",
    "                # This loop generates a random node on the screen and finds the closest node to it in the graph.\n",
    "                # Then it performs clipping and checks for collision with obstacle. If such a node is not detected\n",
    "                # due to obstacles, then it again generates a random node and repeats the process\n",
    "\n",
    "                flag = False\n",
    "                while not(flag):\n",
    "                    qrand = get_random_point()\n",
    "                    nearestNode = graph[0]\n",
    "                    for p in graph:\n",
    "                        if dist(p.point, qrand) <= dist(nearestNode.point, qrand):\n",
    "                            newPoint = clip_point(p.point, qrand)\n",
    "                            if not(isCollision(newPoint)):\n",
    "                                nearestNode = p\n",
    "                                flag = True\n",
    "\n",
    "                newnode = clip_point(nearestNode.point, qrand)\n",
    "                graph.append(Node(newnode, nearestNode))\n",
    "                pygame.draw.line(screen,BLUE,nearestNode.point,newnode)\n",
    "\n",
    "                if inRange(newnode, goalPoint.point, range):\n",
    "                    currentState = 'goalFound'\n",
    "                    goalNode = graph[len(graph)-1]\n",
    "\n",
    "                \n",
    "            else: # If path was not found\n",
    "                print(\"Increase the nodes to find a path!\")\n",
    "                running = False\n",
    "\n",
    "        pygame.display.flip() # Refresh the screen for next frame\n",
    "        clock.tick(FPS)    "
   ]
  },
  {
   "cell_type": "code",
   "execution_count": 4,
   "metadata": {},
   "outputs": [
    {
     "ename": "error",
     "evalue": "video system not initialized",
     "output_type": "error",
     "traceback": [
      "\u001b[1;31m---------------------------------------------------------------------------\u001b[0m",
      "\u001b[1;31merror\u001b[0m                                     Traceback (most recent call last)",
      "\u001b[1;32m<ipython-input-4-cf4dfa90d521>\u001b[0m in \u001b[0;36m<module>\u001b[1;34m\u001b[0m\n\u001b[0;32m      3\u001b[0m \u001b[1;31m# Waiting for user to give close window command\u001b[0m\u001b[1;33m\u001b[0m\u001b[1;33m\u001b[0m\u001b[1;33m\u001b[0m\u001b[0m\n\u001b[0;32m      4\u001b[0m \u001b[1;32mwhile\u001b[0m \u001b[1;32mTrue\u001b[0m\u001b[1;33m:\u001b[0m\u001b[1;33m\u001b[0m\u001b[1;33m\u001b[0m\u001b[0m\n\u001b[1;32m----> 5\u001b[1;33m     \u001b[1;32mfor\u001b[0m \u001b[0mevent\u001b[0m \u001b[1;32min\u001b[0m \u001b[0mpygame\u001b[0m\u001b[1;33m.\u001b[0m\u001b[0mevent\u001b[0m\u001b[1;33m.\u001b[0m\u001b[0mget\u001b[0m\u001b[1;33m(\u001b[0m\u001b[1;33m)\u001b[0m\u001b[1;33m:\u001b[0m\u001b[1;33m\u001b[0m\u001b[1;33m\u001b[0m\u001b[0m\n\u001b[0m\u001b[0;32m      6\u001b[0m     \u001b[1;31m# Check for closing the window\u001b[0m\u001b[1;33m\u001b[0m\u001b[1;33m\u001b[0m\u001b[1;33m\u001b[0m\u001b[0m\n\u001b[0;32m      7\u001b[0m         \u001b[1;32mif\u001b[0m \u001b[0mevent\u001b[0m\u001b[1;33m.\u001b[0m\u001b[0mtype\u001b[0m \u001b[1;33m==\u001b[0m \u001b[0mpygame\u001b[0m\u001b[1;33m.\u001b[0m\u001b[0mQUIT\u001b[0m\u001b[1;33m:\u001b[0m\u001b[1;33m\u001b[0m\u001b[1;33m\u001b[0m\u001b[0m\n",
      "\u001b[1;31merror\u001b[0m: video system not initialized"
     ]
    }
   ],
   "source": [
    "rrt_algo()\n",
    "\n",
    "# Waiting for user to give close window command\n",
    "while True:\n",
    "    for event in pygame.event.get():\n",
    "    # Check for closing the window\n",
    "        if event.type == pygame.QUIT:\n",
    "            pygame.quit()\n",
    "            sys.exit"
   ]
  },
  {
   "cell_type": "markdown",
   "metadata": {},
   "source": [
    "In first image,threshold distance was 15. Second image has threshold distance of 10."
   ]
  },
  {
   "cell_type": "markdown",
   "metadata": {},
   "source": [
    "<img src = \"rrt1.png\"> <img src =\"rrt2.png\">"
   ]
  }
 ],
 "metadata": {
  "kernelspec": {
   "display_name": "Python 3",
   "language": "python",
   "name": "python3"
  },
  "language_info": {
   "codemirror_mode": {
    "name": "ipython",
    "version": 3
   },
   "file_extension": ".py",
   "mimetype": "text/x-python",
   "name": "python",
   "nbconvert_exporter": "python",
   "pygments_lexer": "ipython3",
   "version": "3.7.1"
  }
 },
 "nbformat": 4,
 "nbformat_minor": 2
}
