{
 "cells": [
  {
   "cell_type": "markdown",
   "metadata": {},
   "source": [
    "# Assignment 3 Part A\n",
    "## Vasu Bansal, Roll No. 160776, Course - ME766\n",
    "Path planning in uniform grid-space with obstacles.<br>\n",
    "Algorithm used - A Star<br>\n",
    "Assignment is written in <i>Python</i> and implemented on <i>Jupyter Notebook</i>"
   ]
  },
  {
   "cell_type": "code",
   "execution_count": 1,
   "metadata": {},
   "outputs": [],
   "source": [
    "# Import necessary libraries\n",
    "import matplotlib.pyplot as plt\n",
    "import numpy as np\n",
    "import matplotlib.ticker as plticker\n",
    "import math\n",
    "import cv2\n",
    "import copy"
   ]
  },
  {
   "cell_type": "code",
   "execution_count": 2,
   "metadata": {},
   "outputs": [],
   "source": [
    "# To show image in new window\n",
    "%matplotlib qt"
   ]
  },
  {
   "cell_type": "code",
   "execution_count": 3,
   "metadata": {},
   "outputs": [
    {
     "name": "stderr",
     "output_type": "stream",
     "text": [
      "C:\\ProgramData\\Anaconda3\\lib\\site-packages\\matplotlib\\cbook\\__init__.py:424: MatplotlibDeprecationWarning: \n",
      "Passing one of 'on', 'true', 'off', 'false' as a boolean is deprecated; use an actual boolean (True/False) instead.\n",
      "  warn_deprecated(\"2.2\", \"Passing one of 'on', 'true', 'off', 'false' as a \"\n"
     ]
    }
   ],
   "source": [
    "# Define starting and goal positions\n",
    "startX, startY = 55,55\n",
    "goalX, goalY =  90,90\n",
    "\n",
    "# Workspace Figure settings\n",
    "fig = plt.figure()                                                               \n",
    "ax = fig.add_subplot(1,1,1) \n",
    "\n",
    "# Loading Workspace Image\n",
    "workspace = cv2.imread('workspace_1.png',0)\n",
    "workspace= workspace[::,::]\n",
    "\n",
    "# Thresholding the image to remove possible noisy cells\n",
    "_, workspace = cv2.threshold(workspace, 127, 255, cv2.THRESH_BINARY)\n",
    "\n",
    "workspaceplot = ax.imshow(workspace)\n",
    "\n",
    "ax.scatter(startX, startY,marker='x',color='red')\n",
    "ax.scatter(goalX, goalY, marker='o', color='blue')\n",
    "ax.axis([0, 100, 0, 100])\n",
    "\n",
    "# Grid the workspace\n",
    "major_ticks = np.arange(0, 100, 1)                                              \n",
    "ax.set_xticks(major_ticks)                                                       \n",
    "ax.set_yticks(major_ticks) \n",
    "ax.grid('on')"
   ]
  },
  {
   "cell_type": "markdown",
   "metadata": {},
   "source": [
    "The function retrace_path(currentNode, closedList) retraces the path given the destination node(reached by algorithm) and the closed list."
   ]
  },
  {
   "cell_type": "code",
   "execution_count": 4,
   "metadata": {},
   "outputs": [],
   "source": [
    "def retrace_path(currentNode, closedList):\n",
    "    path = [(currentNode.x, currentNode.y)]\n",
    "    temp = copy.copy(currentNode)\n",
    "    \n",
    "    while(not(temp.x==startX and temp.y==startY)):\n",
    "        a,b = temp.get_parent()\n",
    "        temp = copy.copy(closedList[(a,b)])\n",
    "        path.append((a,b))\n",
    "#         print(a,b, temp.get_g(), temp.h, temp.get_f())\n",
    "    path.append((temp.x, temp.y))\n",
    "    return path    "
   ]
  },
  {
   "cell_type": "markdown",
   "metadata": {},
   "source": [
    "dist(currentNode, neighbour) gives the distance between two nodes. Can be user defined"
   ]
  },
  {
   "cell_type": "code",
   "execution_count": 5,
   "metadata": {},
   "outputs": [],
   "source": [
    "def dist(currentNode, neighbour):\n",
    "    if (not(abs(currentNode.x-neighbour.x)==0 or abs(currentNode.y-neighbour.y)==0)):\n",
    "        return 1.4\n",
    "    else:\n",
    "        return 1\n",
    "#     return math.sqrt((currentNode.x-neighbour.x)**2+(currentNode.y-neighbour.y)**2)"
   ]
  },
  {
   "cell_type": "markdown",
   "metadata": {},
   "source": [
    "Node object has x,y for position.<br>\n",
    "g - distance from starting position. h - heuristic value. f = g+h"
   ]
  },
  {
   "cell_type": "code",
   "execution_count": 6,
   "metadata": {},
   "outputs": [],
   "source": [
    "# weights for g-value and h-value\n",
    "w1 = 1\n",
    "w2 = 1\n",
    "\n",
    "# Defined node object\n",
    "class node():\n",
    "    def __init__(self, xnode, ynode):\n",
    "        self.x = xnode\n",
    "        self.y = ynode\n",
    "        \n",
    "        dx = abs(self.x-goalX)\n",
    "        dy = abs(self.y-goalY)\n",
    "        self.h = math.sqrt(dx*dx+dy*dy)\n",
    "        \n",
    "        self.g = 999999999999999\n",
    "        self.f = 999999999999999\n",
    "        self.parentx=0\n",
    "        self.parenty=0\n",
    "    \n",
    "    # Methods for node object\n",
    "    def get_h(self):\n",
    "        return self.h\n",
    "    \n",
    "    def get_g(self):\n",
    "        return self.g\n",
    "    def set_g(self, gval):\n",
    "        self.g = gval\n",
    "    \n",
    "    def get_f(self):\n",
    "        return w1*self.g+w2*self.h\n",
    "    \n",
    "    def get_parent(self):\n",
    "        return self.parentx,self.parenty\n",
    "    def set_parent(self, parentxval, parentyval):\n",
    "        self.parentx, self.parenty = parentxval, parentyval\n",
    "        \n",
    "    def isValid(self):\n",
    "        if(self.x>0 and self.x<100 and self.y>0 and self.y<100):\n",
    "            return True\n",
    "        else:\n",
    "            return False\n",
    "\n",
    "    def isObstacle(self):   # Tolerance of one cell with obstacle\n",
    "        if(workspace[self.y,self.x]==0 or workspace[self.y-1,self.x]==0 or workspace[self.y,self.x-1]==0 or workspace[self.y-1,self.x-1]==0 or\n",
    "           workspace[self.y+1,self.x]==0 or workspace[self.y,self.x+1]==0 or workspace[self.y+1,self.x+1]==0 or workspace[self.y+1,self.x-1]==0 or workspace[self.y-1,self.x+1]==0):\n",
    "            return True\n",
    "        else:\n",
    "            return False\n",
    "        \n",
    "    def isDestination(self):\n",
    "        if(self.x==goalX and self.y==goalY):\n",
    "            return True\n",
    "        else:\n",
    "            return False            "
   ]
  },
  {
   "cell_type": "code",
   "execution_count": 7,
   "metadata": {},
   "outputs": [],
   "source": [
    "def algorithm():\n",
    "    \n",
    "    # Initial check\n",
    "    if(not node(startX, startY).isValid()):\n",
    "        print('Starting position is not valid!')\n",
    "        return None;\n",
    "    if(not node(goalX, goalY).isValid()):\n",
    "        print('Goal position is not valid!')\n",
    "        return None;\n",
    "    if(node(startX, startY).isObstacle()):\n",
    "        print('Starting position is in obstacle!')\n",
    "        return None;\n",
    "    if(node(goalX, goalY).isObstacle()):\n",
    "        print('Goal position is in obstacle!')\n",
    "        return None;\n",
    "    \n",
    "    # Initialised stating node\n",
    "    startingNode = copy.copy(node(startX, startY))\n",
    "    startingNode.set_parent(startingNode.x, startingNode.y)\n",
    "    startingNode.set_g(0)  \n",
    "    \n",
    "    # Initialised open and closed lists\n",
    "    openList = {} # Contains nodes, which have been visited but whose neighbours are not considered\n",
    "    openList = {(startingNode.x, startingNode.y):startingNode} \n",
    "    closedList = {} # Contains nodes whhose neighbours are expanded\n",
    "    \n",
    "    while(not(len(openList)==0)):\n",
    "        # Find the node which has minimum f-value in the open list\n",
    "        firstKey = list(openList)[0]\n",
    "        currentNode = copy.copy(openList[firstKey])\n",
    "        \n",
    "        for node_ in openList.values():\n",
    "            if(currentNode.get_f()>node_.get_f()):\n",
    "                currentNode = copy.copy(node_)\n",
    "                \n",
    "        print('.',end='')             \n",
    "        ax.scatter(currentNode.x,currentNode.y,color='grey',marker='o')\n",
    "        \n",
    "        # If this node is our destination, we are done.\n",
    "        if(currentNode.isDestination()):\n",
    "            print('Destination is Found!')\n",
    "            path = retrace_path(copy.copy(currentNode), closedList)\n",
    "            return currentNode, path\n",
    "        else:\n",
    "            \n",
    "            #Generate neighbors of current node\n",
    "            neighbours_of_current_node = [node(currentNode.x-1,currentNode.y),node(currentNode.x,currentNode.y-1),\n",
    "                                          node(currentNode.x-1,currentNode.y-1),node(currentNode.x+1,currentNode.y),\n",
    "                                          node(currentNode.x,currentNode.y+1),node(currentNode.x+1,currentNode.y+1),\n",
    "                                          node(currentNode.x+1,currentNode.y-1),node(currentNode.x-1,currentNode.y+1)]\n",
    "            \n",
    "            currentNode = copy.copy(currentNode)\n",
    "            # Delete currentNode from the openlist and add it to closedlist\n",
    "            del openList[(currentNode.x,currentNode.y)]\n",
    "            closedList[(currentNode.x,currentNode.y)] = currentNode\n",
    "            \n",
    "            for neighbour in neighbours_of_current_node:\n",
    "                \n",
    "                # Checking if our neighbour is valid and not an obstacle\n",
    "                if(neighbour.isValid() and not(neighbour.isObstacle())):\n",
    "                    \n",
    "                    # If node is in closed list, skip it\n",
    "                    if((neighbour.x,neighbour.y) in closedList.keys()):\n",
    "                        continue\n",
    "                    \n",
    "                    # Tentative g score\n",
    "                    tentative_gScore = currentNode.get_g()+dist(currentNode, neighbour)                    \n",
    "                    if(tentative_gScore < neighbour.get_g()):\n",
    "                                                \n",
    "                        # If neighbour is in openlist and we can move in cheaply from current node\n",
    "                        # change the parent to current node\n",
    "                        if((neighbour.x, neighbour.y) in openList.keys()):\n",
    "                        \n",
    "                            openList[(neighbour.x, neighbour.y)].set_parent(currentNode.x, currentNode.y)\n",
    "                            openList[(neighbour.x, neighbour.y)].set_g(tentative_gScore)\n",
    "                            continue        \n",
    "                            \n",
    "                        # Setting nodes which are not present in neither open nor closed lists\n",
    "                        node__ = copy.copy(neighbour)\n",
    "                        node__.set_parent(currentNode.x, currentNode.y)\n",
    "                        node__.set_g(tentative_gScore)\n",
    "                        openList[(node__.x, node__.y)] = node__\n",
    "    return None "
   ]
  },
  {
   "cell_type": "code",
   "execution_count": 8,
   "metadata": {},
   "outputs": [
    {
     "name": "stdout",
     "output_type": "stream",
     "text": [
      "..........................................................................................................................................................................................................................................................................................................................................................................................................................................................................................................................................................................................................................................................................................................................................................................................................................................................................................................................................Destination is Found!\n"
     ]
    }
   ],
   "source": [
    "__, path = algorithm()"
   ]
  },
  {
   "cell_type": "code",
   "execution_count": 9,
   "metadata": {},
   "outputs": [
    {
     "data": {
      "text/plain": [
       "<matplotlib.collections.PathCollection at 0x18d5ec3ee80>"
      ]
     },
     "execution_count": 9,
     "metadata": {},
     "output_type": "execute_result"
    }
   ],
   "source": [
    "for pointer in path:\n",
    "    ax.scatter(pointer[0],pointer[1],marker='x',color='white')\n",
    "ax.scatter(startX,startY, marker='o', color='blue')\n",
    "ax.scatter(goalX,goalY, marker='o', color='black')"
   ]
  }
 ],
 "metadata": {
  "kernelspec": {
   "display_name": "Python 3",
   "language": "python",
   "name": "python3"
  },
  "language_info": {
   "codemirror_mode": {
    "name": "ipython",
    "version": 3
   },
   "file_extension": ".py",
   "mimetype": "text/x-python",
   "name": "python",
   "nbconvert_exporter": "python",
   "pygments_lexer": "ipython3",
   "version": "3.7.1"
  }
 },
 "nbformat": 4,
 "nbformat_minor": 2
}
