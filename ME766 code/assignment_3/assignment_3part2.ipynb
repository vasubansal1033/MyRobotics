{
 "cells": [
  {
   "cell_type": "code",
   "execution_count": 1,
   "metadata": {},
   "outputs": [],
   "source": [
    "# Import necessary libraries\n",
    "import matplotlib.pyplot as plt\n",
    "import numpy as np\n",
    "import matplotlib.ticker as plticker\n",
    "import math\n",
    "import cv2\n",
    "import copy\n",
    "import random\n",
    "from collections import deque"
   ]
  },
  {
   "cell_type": "code",
   "execution_count": 2,
   "metadata": {},
   "outputs": [],
   "source": [
    "# To show image in new window\n",
    "%matplotlib qt"
   ]
  },
  {
   "cell_type": "code",
   "execution_count": 3,
   "metadata": {},
   "outputs": [
    {
     "data": {
      "text/plain": [
       "[0, 1500, 0, 1500]"
      ]
     },
     "execution_count": 3,
     "metadata": {},
     "output_type": "execute_result"
    }
   ],
   "source": [
    "# Define starting and goal positions\n",
    "startX, startY = 960, 280\n",
    "goalX, goalY =  580, 400\n",
    "\n",
    "# Thresholding distance for node\n",
    "thresh = 5\n",
    "\n",
    "# Range for which robot can automatically detect goal\n",
    "range = 5\n",
    "\n",
    "# Number of iterations\n",
    "numIterations = 1000\n",
    "\n",
    "# Workspace Figure settings\n",
    "fig = plt.figure()                                                               \n",
    "ax = fig.add_subplot(1,1,1) \n",
    "\n",
    "# Loading Workspace Image\n",
    "workspace = cv2.imread('workspace_2.png',0)\n",
    "workspace= workspace[::,::]\n",
    "\n",
    "# Thresholding the image to remove possible noisy cells\n",
    "_, workspace = cv2.threshold(workspace, 127, 255, cv2.THRESH_BINARY)\n",
    "\n",
    "workspaceplot = ax.imshow(workspace)\n",
    "\n",
    "ax.scatter(startX, startY,marker='x',color='red')\n",
    "ax.scatter(goalX, goalY, marker='o', color='blue')\n",
    "ax.axis([0, 1500, 0, 1500])\n"
   ]
  },
  {
   "cell_type": "code",
   "execution_count": 4,
   "metadata": {},
   "outputs": [],
   "source": [
    "class node():\n",
    "    def __init__(self, xnode, ynode):\n",
    "        self.x = xnode\n",
    "        self.y = ynode\n",
    "        self.theta = 0 # Heading angle\n",
    "        \n",
    "        self.parentx = 0\n",
    "        self.parenty = 0\n",
    "        \n",
    "    def get_parent(self):\n",
    "        return self.x, self.y\n",
    "    def set_parent(self, xval, yval):\n",
    "        self.x, self.y = xval, yval\n",
    "    \n",
    "    def get_heading(self):\n",
    "        self.theta = math.atan2((self.parenty-self.y),(self.parentx-self.x)) # this is in radians\n",
    "        return self.theta\n",
    "    def set_heading(self, thetaval):\n",
    "        self.theta = thetaval\n",
    "        \n",
    "    def isValid(self):\n",
    "        if(self.x>0 and self.x<1500 and self.y>0 and self.y<1500):\n",
    "            return True\n",
    "        else:\n",
    "            return False\n",
    "\n",
    "    def isObstacle(self):   # Tolerance of one cell with obstacle\n",
    "        x = int(self.x)\n",
    "        y = int(self.y)\n",
    "        if(workspace[y,x]==0):\n",
    "            return True\n",
    "        else:\n",
    "            return False\n",
    "        \n",
    "#     def isDestination(self):\n",
    "#         if(self.x==goalX and self.y==goalY):\n",
    "#             return True\n",
    "#         else:\n",
    "#             return False  \n",
    "        "
   ]
  },
  {
   "cell_type": "code",
   "execution_count": 5,
   "metadata": {},
   "outputs": [],
   "source": [
    "def isCollision(node1, node2):\n",
    "    # Equation of line joining node1 and node2 is y=mx+c\n",
    "    m = (node2.y-node1.y)/(node2.x-node1.x)\n",
    "    c = node1.y-m*node1.x\n",
    "    \n",
    "    X = np.linspace(start = node1.x, stop = node2.x, num = 100)\n",
    "    for x_ in X:\n",
    "        y_ = m*x_+c\n",
    "        \n",
    "        x_, y_ = int(x_), int(y_)\n",
    "        if(workspace[y_,x_]==0):\n",
    "            return True\n",
    "    return False\n",
    "        "
   ]
  },
  {
   "cell_type": "code",
   "execution_count": 6,
   "metadata": {},
   "outputs": [],
   "source": [
    "def dist(node1, node2):\n",
    "    return math.sqrt((node1.x-node2.x)**2+(node1.y-node2.y)**2)"
   ]
  },
  {
   "cell_type": "code",
   "execution_count": 7,
   "metadata": {},
   "outputs": [],
   "source": [
    "def generate_random_point():\n",
    "    xrand = random.uniform(1,1499)\n",
    "    yrand = random.uniform(1,1499)\n",
    "    \n",
    "    temp = node(xrand, yrand)\n",
    "    if(temp.isObstacle() or not(temp.isValid())):\n",
    "        return generate_random_point()\n",
    "    else: return temp"
   ]
  },
  {
   "cell_type": "code",
   "execution_count": 8,
   "metadata": {},
   "outputs": [],
   "source": [
    "def generate_nearest_point():\n",
    "    \n",
    "    # Generate random point in workspace    \n",
    "    qrand = generate_random_point()\n",
    "    \n",
    "    # Find the nearest point to qrand in the graph: qnear\n",
    "    firstKey = list(graph)[0]\n",
    "    qnear = graph[firstKey]\n",
    "\n",
    "    for q in graph.values():\n",
    "        if(dist(qnear, qrand)>dist(q,qrand)):\n",
    "            qnear = copy.copy(q)\n",
    "    \n",
    "    # Find qnew, which satisfies threshold distance\n",
    "    if(dist(qnear, qrand)>thresh):\n",
    "        theta = math.atan2((qrand.y-qnear.y),(qrand.x-qnear.y))\n",
    "        x = thresh*math.cos(theta)+qnear.x\n",
    "        y = thresh*math.sin(theta)+qnear.y\n",
    "        qnew = node(x,y)\n",
    "    else:\n",
    "        qnew = copy.copy(qnear)\n",
    "    \n",
    "    return qnew"
   ]
  },
  {
   "cell_type": "code",
   "execution_count": 9,
   "metadata": {},
   "outputs": [],
   "source": [
    "def plot_line(node1, node2):\n",
    "    # TODO\n",
    "    x_ = [node1.x, node2.x]\n",
    "    y_ = [node1.y, node2.y]\n",
    "    ax.plot(x_,y_, color='blue', linewidth = 0.5)\n"
   ]
  },
  {
   "cell_type": "code",
   "execution_count": 10,
   "metadata": {},
   "outputs": [],
   "source": [
    "def function1(currentNode, qnew):\n",
    "    \n",
    "    if(isCollision(currentNode, qnew)):\n",
    "        qnew = generate_nearest_point()\n",
    "        function1(currentNode, qnew)\n",
    "        return;\n",
    "    else:\n",
    "        plot_line(currentNode, qnew)\n",
    "        qnew.set_parent(currentNode.x, currentNode.y)        \n",
    "        graph.append(qnew)\n",
    "        return;\n",
    "        "
   ]
  },
  {
   "cell_type": "code",
   "execution_count": 11,
   "metadata": {},
   "outputs": [
    {
     "ename": "KeyError",
     "evalue": "(960, 280)",
     "output_type": "error",
     "traceback": [
      "\u001b[1;31m---------------------------------------------------------------------------\u001b[0m",
      "\u001b[1;31mKeyError\u001b[0m                                  Traceback (most recent call last)",
      "\u001b[1;32m<ipython-input-11-a5b3695a9cb5>\u001b[0m in \u001b[0;36m<module>\u001b[1;34m\u001b[0m\n\u001b[0;32m     11\u001b[0m \u001b[1;33m\u001b[0m\u001b[0m\n\u001b[0;32m     12\u001b[0m     \u001b[0mnodeKey\u001b[0m \u001b[1;33m=\u001b[0m \u001b[0mqueue\u001b[0m\u001b[1;33m.\u001b[0m\u001b[0mpopleft\u001b[0m\u001b[1;33m(\u001b[0m\u001b[1;33m)\u001b[0m\u001b[1;33m\u001b[0m\u001b[1;33m\u001b[0m\u001b[0m\n\u001b[1;32m---> 13\u001b[1;33m     \u001b[0mnode_\u001b[0m \u001b[1;33m=\u001b[0m \u001b[0mopenList\u001b[0m\u001b[1;33m[\u001b[0m\u001b[1;33m(\u001b[0m\u001b[0mnodeKey\u001b[0m\u001b[1;33m[\u001b[0m\u001b[1;36m0\u001b[0m\u001b[1;33m]\u001b[0m\u001b[1;33m,\u001b[0m \u001b[0mnodeKey\u001b[0m\u001b[1;33m[\u001b[0m\u001b[1;36m1\u001b[0m\u001b[1;33m]\u001b[0m\u001b[1;33m)\u001b[0m\u001b[1;33m]\u001b[0m\u001b[1;33m\u001b[0m\u001b[1;33m\u001b[0m\u001b[0m\n\u001b[0m\u001b[0;32m     14\u001b[0m     \u001b[0mqnew\u001b[0m \u001b[1;33m=\u001b[0m \u001b[0mgenerate_nearest_point\u001b[0m\u001b[1;33m(\u001b[0m\u001b[1;33m)\u001b[0m\u001b[1;33m\u001b[0m\u001b[1;33m\u001b[0m\u001b[0m\n\u001b[0;32m     15\u001b[0m \u001b[1;33m\u001b[0m\u001b[0m\n",
      "\u001b[1;31mKeyError\u001b[0m: (960, 280)"
     ]
    }
   ],
   "source": [
    "c = 0\n",
    "\n",
    "startingNode = node(startX, startY)\n",
    "goalNode = node(goalX, goalY)\n",
    "\n",
    "graph = []\n",
    "graph.append(startingNode)\n",
    "while c<numIterations:\n",
    "\n",
    "    node_ = graph[0]\n",
    "    qnew = generate_nearest_point()\n",
    "    \n",
    "    if(dist(qnew, goalNode)<= range):\n",
    "        print('Destination Found!')\n",
    "        goalNode.set_parent(qnew.x, qnew.y)\n",
    "        path = retrace_path(goalNode)\n",
    "    \n",
    "    for p in nodes:\n",
    "        if(dis(p, qnew)<dist(node_,qnew)):\n",
    "            node_ = copy.copy(p)\n",
    "            \n",
    "    function1(node_, qnew) \n",
    "\n",
    "    if(not(qnew.isObstacle())):\n",
    "        openList[(qnew.x, qnew.y)] = copy.copy(qnew)\n",
    "        queue.append((qnew.x, qnew.y))\n",
    "    del openList[(qnew.x, qnew.y)]\n",
    "\n",
    "    c=c+1"
   ]
  },
  {
   "cell_type": "code",
   "execution_count": null,
   "metadata": {},
   "outputs": [],
   "source": []
  }
 ],
 "metadata": {
  "kernelspec": {
   "display_name": "Python 3",
   "language": "python",
   "name": "python3"
  },
  "language_info": {
   "codemirror_mode": {
    "name": "ipython",
    "version": 3
   },
   "file_extension": ".py",
   "mimetype": "text/x-python",
   "name": "python",
   "nbconvert_exporter": "python",
   "pygments_lexer": "ipython3",
   "version": "3.7.1"
  }
 },
 "nbformat": 4,
 "nbformat_minor": 2
}
